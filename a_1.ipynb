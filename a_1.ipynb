{
 "cells": [
  {
   "cell_type": "code",
   "execution_count": 1,
   "metadata": {},
   "outputs": [
    {
     "name": "stderr",
     "output_type": "stream",
     "text": [
      "Using TensorFlow backend.\n"
     ]
    },
    {
     "name": "stdout",
     "output_type": "stream",
     "text": [
      "CPU times: user 548 ms, sys: 200 ms, total: 748 ms\n",
      "Wall time: 573 ms\n"
     ]
    }
   ],
   "source": [
    "%%time\n",
    "import keras\n",
    "keras.__version__"
   ]
  },
  {
   "cell_type": "code",
   "execution_count": 2,
   "metadata": {},
   "outputs": [
    {
     "name": "stdout",
     "output_type": "stream",
     "text": [
      "CPU times: user 492 ms, sys: 48 ms, total: 540 ms\n",
      "Wall time: 374 ms\n"
     ]
    }
   ],
   "source": [
    "%%time\n",
    "from keras.applications import VGG16\n",
    "\n",
    "conv_base = VGG16(weights='imagenet',\n",
    "                  input_shape=(150,150, 3),\n",
    "                  include_top=False)"
   ]
  },
  {
   "cell_type": "code",
   "execution_count": 3,
   "metadata": {},
   "outputs": [
    {
     "name": "stdout",
     "output_type": "stream",
     "text": [
      "_________________________________________________________________\n",
      "Layer (type)                 Output Shape              Param #   \n",
      "=================================================================\n",
      "input_1 (InputLayer)         (None, 150, 150, 3)       0         \n",
      "_________________________________________________________________\n",
      "block1_conv1 (Conv2D)        (None, 150, 150, 64)      1792      \n",
      "_________________________________________________________________\n",
      "block1_conv2 (Conv2D)        (None, 150, 150, 64)      36928     \n",
      "_________________________________________________________________\n",
      "block1_pool (MaxPooling2D)   (None, 75, 75, 64)        0         \n",
      "_________________________________________________________________\n",
      "block2_conv1 (Conv2D)        (None, 75, 75, 128)       73856     \n",
      "_________________________________________________________________\n",
      "block2_conv2 (Conv2D)        (None, 75, 75, 128)       147584    \n",
      "_________________________________________________________________\n",
      "block2_pool (MaxPooling2D)   (None, 37, 37, 128)       0         \n",
      "_________________________________________________________________\n",
      "block3_conv1 (Conv2D)        (None, 37, 37, 256)       295168    \n",
      "_________________________________________________________________\n",
      "block3_conv2 (Conv2D)        (None, 37, 37, 256)       590080    \n",
      "_________________________________________________________________\n",
      "block3_conv3 (Conv2D)        (None, 37, 37, 256)       590080    \n",
      "_________________________________________________________________\n",
      "block3_pool (MaxPooling2D)   (None, 18, 18, 256)       0         \n",
      "_________________________________________________________________\n",
      "block4_conv1 (Conv2D)        (None, 18, 18, 512)       1180160   \n",
      "_________________________________________________________________\n",
      "block4_conv2 (Conv2D)        (None, 18, 18, 512)       2359808   \n",
      "_________________________________________________________________\n",
      "block4_conv3 (Conv2D)        (None, 18, 18, 512)       2359808   \n",
      "_________________________________________________________________\n",
      "block4_pool (MaxPooling2D)   (None, 9, 9, 512)         0         \n",
      "_________________________________________________________________\n",
      "block5_conv1 (Conv2D)        (None, 9, 9, 512)         2359808   \n",
      "_________________________________________________________________\n",
      "block5_conv2 (Conv2D)        (None, 9, 9, 512)         2359808   \n",
      "_________________________________________________________________\n",
      "block5_conv3 (Conv2D)        (None, 9, 9, 512)         2359808   \n",
      "_________________________________________________________________\n",
      "block5_pool (MaxPooling2D)   (None, 4, 4, 512)         0         \n",
      "=================================================================\n",
      "Total params: 14,714,688\n",
      "Trainable params: 14,714,688\n",
      "Non-trainable params: 0\n",
      "_________________________________________________________________\n",
      "CPU times: user 0 ns, sys: 4 ms, total: 4 ms\n",
      "Wall time: 3.59 ms\n"
     ]
    }
   ],
   "source": [
    "%%time\n",
    "conv_base.summary()"
   ]
  },
  {
   "cell_type": "code",
   "execution_count": 4,
   "metadata": {
    "scrolled": true
   },
   "outputs": [
    {
     "name": "stdout",
     "output_type": "stream",
     "text": [
      "Found 5280 images belonging to 88 classes.\n",
      "Found 1760 images belonging to 88 classes.\n",
      "Found 1760 images belonging to 88 classes.\n",
      "(1760, 4, 4, 512)\n",
      "(1760, 88)\n",
      "[[[[ 0.30536932  0.          0.         ...,  0.          0.01846081  0.        ]\n",
      "   [ 0.08656953  0.          0.         ...,  0.          0.          0.        ]\n",
      "   [ 0.13860333  0.          0.         ...,  0.          0.21558952  0.        ]\n",
      "   [ 0.88561279  0.          0.         ...,  0.          0.4857797   0.        ]]\n",
      "\n",
      "  [[ 0.44444883  0.          0.         ...,  0.          0.          0.        ]\n",
      "   [ 0.          0.          0.         ...,  0.          0.          0.        ]\n",
      "   [ 0.          0.          0.         ...,  0.60690182  0.20380619  0.        ]\n",
      "   [ 0.99272394  0.          0.         ...,  0.03250607  0.          0.        ]]\n",
      "\n",
      "  [[ 0.04284829  0.          0.         ...,  0.          0.          0.        ]\n",
      "   [ 0.          0.          0.         ...,  0.          0.          0.        ]\n",
      "   [ 0.          0.          0.         ...,  0.91330326  0.50003904  0.        ]\n",
      "   [ 0.          0.          0.         ...,  0.36030772  0.41886693  0.        ]]\n",
      "\n",
      "  [[ 0.22923289  0.          0.         ...,  0.          0.          0.        ]\n",
      "   [ 0.          0.          0.         ...,  0.          0.09972924  0.        ]\n",
      "   [ 0.09665704  0.          0.         ...,  0.          0.61878264  0.        ]\n",
      "   [ 0.16931671  0.          0.         ...,  0.          0.5454396   0.        ]]]\n",
      "\n",
      "\n",
      " [[[ 0.51383531  0.          0.         ...,  0.          0.65401745  0.        ]\n",
      "   [ 0.42227945  0.          0.         ...,  0.          0.69444054  0.        ]\n",
      "   [ 0.13747591  0.          0.         ...,  0.          0.68032312  0.        ]\n",
      "   [ 0.03407992  0.          0.         ...,  0.          0.75887167  0.        ]]\n",
      "\n",
      "  [[ 0.55576062  0.          0.         ...,  0.          0.05961794  0.        ]\n",
      "   [ 0.22614312  0.          0.         ...,  0.          0.1460799   0.        ]\n",
      "   [ 0.18344049  0.          0.17864853 ...,  0.02834129  0.83578634  0.        ]\n",
      "   [ 0.          0.          0.         ...,  0.          0.80963928  0.        ]]\n",
      "\n",
      "  [[ 0.0938585   0.          0.         ...,  0.          0.          0.        ]\n",
      "   [ 0.          0.          0.         ...,  0.          0.38974646  0.        ]\n",
      "   [ 0.13285679  0.          0.09145638 ...,  0.02904641  0.90145439  0.        ]\n",
      "   [ 0.          0.          0.         ...,  0.          0.88694674  0.        ]]\n",
      "\n",
      "  [[ 0.          0.          0.         ...,  0.          0.12356824  0.        ]\n",
      "   [ 0.          0.          0.         ...,  0.          0.41383785  0.        ]\n",
      "   [ 0.14138901  0.          0.         ...,  0.          0.84551966  0.        ]\n",
      "   [ 0.04390284  0.          0.         ...,  0.          0.90651518  0.        ]]]\n",
      "\n",
      "\n",
      " [[[ 0.19033323  0.          0.         ...,  0.          0.          0.        ]\n",
      "   [ 0.00634839  0.          0.         ...,  0.          0.          0.        ]\n",
      "   [ 0.25722614  0.          0.         ...,  0.          0.16086841  0.        ]\n",
      "   [ 0.86691177  0.          0.         ...,  0.          0.57683247  0.        ]]\n",
      "\n",
      "  [[ 0.38503608  0.          0.         ...,  0.          0.          0.        ]\n",
      "   [ 0.          0.          0.         ...,  0.03561705  0.          0.        ]\n",
      "   [ 0.          0.06709296  0.         ...,  0.73277551  0.          0.        ]\n",
      "   [ 0.71711278  0.02520102  0.         ...,  0.          0.          0.        ]]\n",
      "\n",
      "  [[ 0.15540776  0.          0.         ...,  0.          0.          0.        ]\n",
      "   [ 0.          0.          0.         ...,  0.          0.          0.        ]\n",
      "   [ 0.          0.04901081  0.         ...,  0.72632474  0.16340721  0.        ]\n",
      "   [ 0.          0.03836882  0.         ...,  0.08753065  0.36075896  0.        ]]\n",
      "\n",
      "  [[ 0.18061101  0.          0.         ...,  0.          0.          0.        ]\n",
      "   [ 0.          0.          0.         ...,  0.          0.          0.        ]\n",
      "   [ 0.1105113   0.          0.         ...,  0.          0.22882465  0.        ]\n",
      "   [ 0.25937203  0.          0.         ...,  0.          0.37319213  0.        ]]]\n",
      "\n",
      "\n",
      " ..., \n",
      " [[[ 0.03303431  0.          0.         ...,  0.          0.40445924  0.        ]\n",
      "   [ 0.18927139  0.          0.         ...,  0.          0.07262063  0.        ]\n",
      "   [ 0.39515525  0.          0.         ...,  0.          0.14515191  0.        ]\n",
      "   [ 1.0322907   0.          0.         ...,  0.          0.61982429  0.        ]]\n",
      "\n",
      "  [[ 0.11628977  0.          0.         ...,  0.          0.40116161  0.        ]\n",
      "   [ 0.00673546  0.          0.         ...,  0.          0.03278613  0.        ]\n",
      "   [ 0.17914151  0.          0.         ...,  0.09493355  0.15381074  0.        ]\n",
      "   [ 0.87213147  0.          0.         ...,  0.          0.00225139  0.        ]]\n",
      "\n",
      "  [[ 0.05319588  0.          0.         ...,  0.          0.22651368  0.        ]\n",
      "   [ 0.          0.          0.         ...,  0.          0.          0.        ]\n",
      "   [ 0.09101557  0.          0.         ...,  0.20035762  0.56709486  0.        ]\n",
      "   [ 0.          0.          0.         ...,  0.          0.6571455   0.        ]]\n",
      "\n",
      "  [[ 0.24330463  0.          0.         ...,  0.          0.06560194  0.        ]\n",
      "   [ 0.          0.          0.         ...,  0.          0.2660622   0.        ]\n",
      "   [ 0.23744424  0.          0.         ...,  0.          0.54838037  0.        ]\n",
      "   [ 0.27459842  0.          0.         ...,  0.          0.61098784  0.        ]]]\n",
      "\n",
      "\n",
      " [[[ 0.1692117   0.          0.         ...,  0.          0.          0.        ]\n",
      "   [ 0.          0.          0.         ...,  0.          0.07508862  0.        ]\n",
      "   [ 0.32420731  0.          0.         ...,  0.          0.21935195  0.        ]\n",
      "   [ 0.80953127  0.          0.         ...,  0.          0.55424362  0.        ]]\n",
      "\n",
      "  [[ 0.44466022  0.          0.         ...,  0.          0.          0.        ]\n",
      "   [ 0.          0.          0.         ...,  0.          0.          0.        ]\n",
      "   [ 0.          0.          0.         ...,  0.58498853  0.18126187  0.        ]\n",
      "   [ 0.63865125  0.          0.         ...,  0.          0.00352067  0.        ]]\n",
      "\n",
      "  [[ 0.16226524  0.          0.         ...,  0.          0.          0.        ]\n",
      "   [ 0.          0.          0.         ...,  0.          0.          0.        ]\n",
      "   [ 0.          0.          0.         ...,  0.54116577  0.17718762  0.        ]\n",
      "   [ 0.          0.          0.         ...,  0.          0.26291621  0.        ]]\n",
      "\n",
      "  [[ 0.17652091  0.          0.         ...,  0.          0.          0.        ]\n",
      "   [ 0.          0.          0.         ...,  0.          0.          0.        ]\n",
      "   [ 0.          0.          0.         ...,  0.          0.33670714  0.        ]\n",
      "   [ 0.          0.          0.         ...,  0.          0.42252344  0.        ]]]\n",
      "\n",
      "\n",
      " [[[ 0.17733791  0.          0.         ...,  0.          0.01791078  0.        ]\n",
      "   [ 0.          0.          0.         ...,  0.          0.          0.        ]\n",
      "   [ 0.24286412  0.          0.         ...,  0.          0.1119079   0.        ]\n",
      "   [ 1.19692886  0.          0.         ...,  0.          0.43782815  0.        ]]\n",
      "\n",
      "  [[ 0.4419322   0.          0.         ...,  0.          0.          0.        ]\n",
      "   [ 0.          0.          0.         ...,  0.09795476  0.          0.        ]\n",
      "   [ 0.          0.          0.         ...,  0.75717932  0.00636208  0.        ]\n",
      "   [ 0.95719427  0.          0.         ...,  0.          0.          0.        ]]\n",
      "\n",
      "  [[ 0.14469624  0.          0.         ...,  0.          0.          0.        ]\n",
      "   [ 0.          0.          0.         ...,  0.          0.          0.        ]\n",
      "   [ 0.10604557  0.          0.         ...,  0.50555009  0.5252353   0.        ]\n",
      "   [ 0.          0.          0.         ...,  0.01432722  0.40756977  0.        ]]\n",
      "\n",
      "  [[ 0.18936029  0.          0.         ...,  0.          0.          0.        ]\n",
      "   [ 0.          0.          0.         ...,  0.          0.          0.        ]\n",
      "   [ 0.23969424  0.          0.         ...,  0.          0.53571206  0.        ]\n",
      "   [ 0.16364734  0.          0.         ...,  0.          0.47185987  0.        ]]]]\n",
      "CPU times: user 2h 57min 2s, sys: 3min 40s, total: 3h 43s\n",
      "Wall time: 45min 50s\n"
     ]
    }
   ],
   "source": [
    "%%time\n",
    "import os\n",
    "import numpy as np\n",
    "from keras.preprocessing.image import ImageDataGenerator\n",
    "\n",
    "base_dir = 'digital_src_final/'\n",
    "\n",
    "train_dir = os.path.join(base_dir, 'training')\n",
    "validation_dir = os.path.join(base_dir, 'validation')\n",
    "test_dir = os.path.join(base_dir, 'test')\n",
    "\n",
    "datagen = ImageDataGenerator(rescale=1./255)\n",
    "batch_size = 20\n",
    "\n",
    "def extract_features(directory, sample_count):\n",
    "    features = np.zeros(shape=(sample_count, 4, 4, 512))\n",
    "    labels = np.zeros(shape=(sample_count,88))\n",
    "    generator = datagen.flow_from_directory(\n",
    "        directory,\n",
    "        target_size=(150, 150),\n",
    "        batch_size=batch_size,\n",
    "        class_mode='categorical')\n",
    "\n",
    "    i = 0\n",
    "    for inputs_batch, labels_batch in generator:\n",
    "#         print(labels_batch)\n",
    "#         print(inputs_batch)\n",
    "        features_batch = conv_base.predict(inputs_batch)\n",
    "        features[i * batch_size : (i + 1) * batch_size] = features_batch\n",
    "        labels[i * batch_size : (i + 1) * batch_size] = labels_batch\n",
    "        i += 1\n",
    "        if i * batch_size >= sample_count:\n",
    "            # Note that since generators yield data indefinitely in a loop,\n",
    "            # we must `break` after every image has been seen once.\n",
    "            break\n",
    "    return features, labels\n",
    "\n",
    "train_features, train_labels = extract_features(train_dir, 5280)\n",
    "validation_features, validation_labels = extract_features(validation_dir,1760)\n",
    "test_features, test_labels = extract_features(test_dir, 1760)\n",
    "\n",
    "print(test_features.shape)\n",
    "print(test_labels.shape)\n",
    "print(test_features)"
   ]
  },
  {
   "cell_type": "code",
   "execution_count": 5,
   "metadata": {
    "scrolled": true
   },
   "outputs": [
    {
     "name": "stdout",
     "output_type": "stream",
     "text": [
      "[[ 0.  0.  0. ...,  0.  0.  0.]\n",
      " [ 0.  0.  0. ...,  0.  0.  0.]\n",
      " [ 0.  0.  0. ...,  0.  0.  0.]\n",
      " ..., \n",
      " [ 0.  0.  0. ...,  0.  0.  0.]\n",
      " [ 0.  0.  0. ...,  0.  0.  0.]\n",
      " [ 0.  0.  0. ...,  0.  0.  0.]]\n",
      "CPU times: user 4 ms, sys: 4 ms, total: 8 ms\n",
      "Wall time: 10.3 ms\n"
     ]
    }
   ],
   "source": [
    "%%time\n",
    "print(test_labels[0:20])\n",
    "from keras.utils import to_categorical\n",
    "test_labels = to_categorical(test_labels, 88)"
   ]
  },
  {
   "cell_type": "code",
   "execution_count": 6,
   "metadata": {},
   "outputs": [
    {
     "name": "stdout",
     "output_type": "stream",
     "text": [
      "(1760, 88, 88)\n"
     ]
    }
   ],
   "source": [
    "print(test_labels.shape)"
   ]
  },
  {
   "cell_type": "markdown",
   "metadata": {},
   "source": [
    "The extracted features are currently of shape `(samples, 4, 4, 512)`. We will feed them to a densely-connected classifier, so first we must \n",
    "flatten them to `(samples, 8192)`:"
   ]
  },
  {
   "cell_type": "code",
   "execution_count": 7,
   "metadata": {},
   "outputs": [],
   "source": [
    "train_features = np.reshape(train_features ,(5280,4 * 4 * 512))\n",
    "validation_features = np.reshape(validation_features, (1760, 4 * 4 * 512))\n",
    "test_features = np.reshape(test_features, (1760, 4 * 4 * 512))"
   ]
  },
  {
   "cell_type": "markdown",
   "metadata": {},
   "source": [
    "At this point, we can define our densely-connected classifier (note the use of dropout for regularization), and train it on the data and \n",
    "labels that we just recorded:"
   ]
  },
  {
   "cell_type": "code",
   "execution_count": 9,
   "metadata": {
    "scrolled": true
   },
   "outputs": [
    {
     "name": "stdout",
     "output_type": "stream",
     "text": [
      "Train on 5280 samples, validate on 1760 samples\n",
      "Epoch 1/50\n",
      "5280/5280 [==============================] - 9s 2ms/step - loss: 4.4807 - acc: 0.0322 - val_loss: 4.2337 - val_acc: 0.1006\n",
      "Epoch 2/50\n",
      "5280/5280 [==============================] - 9s 2ms/step - loss: 4.1640 - acc: 0.0854 - val_loss: 3.9985 - val_acc: 0.2233\n",
      "Epoch 3/50\n",
      "5280/5280 [==============================] - 10s 2ms/step - loss: 3.9498 - acc: 0.1347 - val_loss: 3.7745 - val_acc: 0.3000\n",
      "Epoch 4/50\n",
      "5280/5280 [==============================] - 11s 2ms/step - loss: 3.7509 - acc: 0.1763 - val_loss: 3.5558 - val_acc: 0.3972\n",
      "Epoch 5/50\n",
      "5280/5280 [==============================] - 10s 2ms/step - loss: 3.5468 - acc: 0.2331 - val_loss: 3.3449 - val_acc: 0.5000\n",
      "Epoch 6/50\n",
      "5280/5280 [==============================] - 10s 2ms/step - loss: 3.3713 - acc: 0.2729 - val_loss: 3.1461 - val_acc: 0.5631\n",
      "Epoch 7/50\n",
      "5280/5280 [==============================] - 10s 2ms/step - loss: 3.1754 - acc: 0.3180 - val_loss: 2.9356 - val_acc: 0.6227\n",
      "Epoch 8/50\n",
      "5280/5280 [==============================] - 10s 2ms/step - loss: 2.9827 - acc: 0.3604 - val_loss: 2.7365 - val_acc: 0.6977\n",
      "Epoch 9/50\n",
      "5280/5280 [==============================] - 10s 2ms/step - loss: 2.8502 - acc: 0.3854 - val_loss: 2.5559 - val_acc: 0.6892\n",
      "Epoch 10/50\n",
      "5280/5280 [==============================] - 10s 2ms/step - loss: 2.6679 - acc: 0.4511 - val_loss: 2.3744 - val_acc: 0.7403\n",
      "Epoch 11/50\n",
      "5280/5280 [==============================] - 10s 2ms/step - loss: 2.5399 - acc: 0.4754 - val_loss: 2.2153 - val_acc: 0.7540\n",
      "Epoch 12/50\n",
      "5280/5280 [==============================] - 10s 2ms/step - loss: 2.3838 - acc: 0.4973 - val_loss: 2.0583 - val_acc: 0.7864\n",
      "Epoch 13/50\n",
      "5280/5280 [==============================] - 10s 2ms/step - loss: 2.2477 - acc: 0.5354 - val_loss: 1.9091 - val_acc: 0.8193\n",
      "Epoch 14/50\n",
      "5280/5280 [==============================] - 10s 2ms/step - loss: 2.1168 - acc: 0.5587 - val_loss: 1.7793 - val_acc: 0.8273\n",
      "Epoch 15/50\n",
      "5280/5280 [==============================] - 10s 2ms/step - loss: 1.9947 - acc: 0.5824 - val_loss: 1.6467 - val_acc: 0.8551\n",
      "Epoch 16/50\n",
      "5280/5280 [==============================] - 10s 2ms/step - loss: 1.8999 - acc: 0.6081 - val_loss: 1.5333 - val_acc: 0.8625\n",
      "Epoch 17/50\n",
      "5280/5280 [==============================] - 12s 2ms/step - loss: 1.7897 - acc: 0.6199 - val_loss: 1.4270 - val_acc: 0.8687\n",
      "Epoch 18/50\n",
      "5280/5280 [==============================] - 10s 2ms/step - loss: 1.6674 - acc: 0.6557 - val_loss: 1.3261 - val_acc: 0.8955\n",
      "Epoch 19/50\n",
      "5280/5280 [==============================] - 10s 2ms/step - loss: 1.5927 - acc: 0.6737 - val_loss: 1.2277 - val_acc: 0.8778\n",
      "Epoch 20/50\n",
      "5280/5280 [==============================] - 10s 2ms/step - loss: 1.4892 - acc: 0.6900 - val_loss: 1.1438 - val_acc: 0.8932\n",
      "Epoch 21/50\n",
      "5280/5280 [==============================] - 10s 2ms/step - loss: 1.4236 - acc: 0.7064 - val_loss: 1.0660 - val_acc: 0.9074\n",
      "Epoch 22/50\n",
      "5280/5280 [==============================] - 10s 2ms/step - loss: 1.3700 - acc: 0.7087 - val_loss: 0.9987 - val_acc: 0.9148\n",
      "Epoch 23/50\n",
      "5280/5280 [==============================] - 10s 2ms/step - loss: 1.2840 - acc: 0.7392 - val_loss: 0.9280 - val_acc: 0.9170\n",
      "Epoch 24/50\n",
      "5280/5280 [==============================] - 10s 2ms/step - loss: 1.2057 - acc: 0.7544 - val_loss: 0.8687 - val_acc: 0.9273\n",
      "Epoch 25/50\n",
      "5280/5280 [==============================] - 10s 2ms/step - loss: 1.1641 - acc: 0.7638 - val_loss: 0.8173 - val_acc: 0.9301\n",
      "Epoch 26/50\n",
      "5280/5280 [==============================] - 10s 2ms/step - loss: 1.1085 - acc: 0.7672 - val_loss: 0.7718 - val_acc: 0.9318\n",
      "Epoch 27/50\n",
      "5280/5280 [==============================] - 10s 2ms/step - loss: 1.0592 - acc: 0.7811 - val_loss: 0.7287 - val_acc: 0.9364\n",
      "Epoch 28/50\n",
      "5280/5280 [==============================] - 10s 2ms/step - loss: 1.0047 - acc: 0.7977 - val_loss: 0.6828 - val_acc: 0.9335\n",
      "Epoch 29/50\n",
      "5280/5280 [==============================] - 10s 2ms/step - loss: 0.9669 - acc: 0.8064 - val_loss: 0.6427 - val_acc: 0.9415\n",
      "Epoch 30/50\n",
      "5280/5280 [==============================] - 11s 2ms/step - loss: 0.9256 - acc: 0.8074 - val_loss: 0.6123 - val_acc: 0.9369\n",
      "Epoch 31/50\n",
      "5280/5280 [==============================] - 10s 2ms/step - loss: 0.8834 - acc: 0.8193 - val_loss: 0.5748 - val_acc: 0.9415\n",
      "Epoch 32/50\n",
      "5280/5280 [==============================] - 10s 2ms/step - loss: 0.8365 - acc: 0.8330 - val_loss: 0.5466 - val_acc: 0.9432\n",
      "Epoch 33/50\n",
      "5280/5280 [==============================] - 10s 2ms/step - loss: 0.8035 - acc: 0.8356 - val_loss: 0.5176 - val_acc: 0.9506\n",
      "Epoch 34/50\n",
      "5280/5280 [==============================] - 10s 2ms/step - loss: 0.7733 - acc: 0.8487 - val_loss: 0.4917 - val_acc: 0.9506\n",
      "Epoch 35/50\n",
      "5280/5280 [==============================] - 10s 2ms/step - loss: 0.7455 - acc: 0.8396 - val_loss: 0.4697 - val_acc: 0.9551\n",
      "Epoch 36/50\n",
      "5280/5280 [==============================] - 10s 2ms/step - loss: 0.7160 - acc: 0.8545 - val_loss: 0.4471 - val_acc: 0.9511\n",
      "Epoch 37/50\n",
      "5280/5280 [==============================] - 10s 2ms/step - loss: 0.6720 - acc: 0.8657 - val_loss: 0.4249 - val_acc: 0.9568\n",
      "Epoch 38/50\n",
      "5280/5280 [==============================] - 10s 2ms/step - loss: 0.6507 - acc: 0.8678 - val_loss: 0.4045 - val_acc: 0.9602\n",
      "Epoch 39/50\n",
      "5280/5280 [==============================] - 10s 2ms/step - loss: 0.6283 - acc: 0.8803 - val_loss: 0.3854 - val_acc: 0.9585\n",
      "Epoch 40/50\n",
      "5280/5280 [==============================] - 10s 2ms/step - loss: 0.6004 - acc: 0.8847 - val_loss: 0.3711 - val_acc: 0.9602\n",
      "Epoch 41/50\n",
      "5280/5280 [==============================] - 10s 2ms/step - loss: 0.5772 - acc: 0.8877 - val_loss: 0.3527 - val_acc: 0.9608\n",
      "Epoch 42/50\n",
      "5280/5280 [==============================] - 10s 2ms/step - loss: 0.5465 - acc: 0.8975 - val_loss: 0.3384 - val_acc: 0.9585\n",
      "Epoch 43/50\n",
      "5280/5280 [==============================] - 10s 2ms/step - loss: 0.5423 - acc: 0.8919 - val_loss: 0.3253 - val_acc: 0.9585\n",
      "Epoch 44/50\n",
      "5280/5280 [==============================] - 10s 2ms/step - loss: 0.5202 - acc: 0.9013 - val_loss: 0.3114 - val_acc: 0.9608\n",
      "Epoch 45/50\n",
      "5280/5280 [==============================] - 10s 2ms/step - loss: 0.5001 - acc: 0.8966 - val_loss: 0.3008 - val_acc: 0.9653\n",
      "Epoch 46/50\n",
      "5280/5280 [==============================] - 10s 2ms/step - loss: 0.4821 - acc: 0.9076 - val_loss: 0.2884 - val_acc: 0.9653\n",
      "Epoch 47/50\n",
      "5280/5280 [==============================] - 10s 2ms/step - loss: 0.4580 - acc: 0.9152 - val_loss: 0.2750 - val_acc: 0.9670\n",
      "Epoch 48/50\n",
      "5280/5280 [==============================] - 10s 2ms/step - loss: 0.4359 - acc: 0.9167 - val_loss: 0.2655 - val_acc: 0.9670\n",
      "Epoch 49/50\n",
      "5280/5280 [==============================] - 10s 2ms/step - loss: 0.4330 - acc: 0.9212 - val_loss: 0.2592 - val_acc: 0.9670\n",
      "Epoch 50/50\n",
      "5280/5280 [==============================] - 10s 2ms/step - loss: 0.4184 - acc: 0.9220 - val_loss: 0.2483 - val_acc: 0.9659\n",
      "CPU times: user 17min 44s, sys: 6min 38s, total: 24min 22s\n",
      "Wall time: 8min 19s\n"
     ]
    }
   ],
   "source": [
    "%%time\n",
    "from keras import models\n",
    "from keras import layers\n",
    "from keras import optimizers\n",
    "\n",
    "model = models.Sequential()\n",
    "model.add(layers.Dense(256, activation='relu', input_dim=4 * 4 * 512))\n",
    "model.add(layers.Dropout(0.5))\n",
    "model.add(layers.Dense(88, activation='softmax'))\n",
    "\n",
    "model.compile(optimizer=optimizers.RMSprop(lr=2e-5),\n",
    "              loss='categorical_crossentropy',\n",
    "              metrics=['acc'])\n",
    "\n",
    "history = model.fit(train_features, train_labels,\n",
    "                    epochs=50,\n",
    "                    batch_size=batch_size,\n",
    "                    validation_data=(validation_features, validation_labels))"
   ]
  },
  {
   "cell_type": "markdown",
   "metadata": {},
   "source": [
    "Training is very fast, since we only have to deal with two `Dense` layers -- an epoch takes less than one second even on CPU.\n",
    "\n",
    "Let's take a look at the loss and accuracy curves during training:"
   ]
  },
  {
   "cell_type": "code",
   "execution_count": 10,
   "metadata": {},
   "outputs": [
    {
     "data": {
      "text/plain": [
       "<matplotlib.figure.Figure at 0x7efebd31bdd0>"
      ]
     },
     "metadata": {},
     "output_type": "display_data"
    },
    {
     "data": {
      "text/plain": [
       "<matplotlib.figure.Figure at 0x7efea6cac8d0>"
      ]
     },
     "metadata": {},
     "output_type": "display_data"
    }
   ],
   "source": [
    "import matplotlib.pyplot as plt\n",
    "\n",
    "acc = history.history['acc']\n",
    "val_acc = history.history['val_acc']\n",
    "loss = history.history['loss']\n",
    "val_loss = history.history['val_loss']\n",
    "\n",
    "epochs = range(len(acc))\n",
    "\n",
    "plt.plot(epochs, acc, 'bo', label='Training acc')\n",
    "plt.plot(epochs, val_acc, 'b', label='Validation acc')\n",
    "plt.title('Training and validation accuracy')\n",
    "plt.legend()\n",
    "\n",
    "plt.figure()\n",
    "\n",
    "plt.plot(epochs, loss, 'bo', label='Training loss')\n",
    "plt.plot(epochs, val_loss, 'b', label='Validation loss')\n",
    "plt.title('Training and validation loss')\n",
    "plt.legend()\n",
    "\n",
    "plt.show()\n",
    "\n",
    "model.save('digital.h5')"
   ]
  },
  {
   "cell_type": "code",
   "execution_count": 11,
   "metadata": {},
   "outputs": [],
   "source": [
    "from keras import models\n",
    "from keras import layers\n",
    "\n",
    "model = models.Sequential()\n",
    "model.add(conv_base)\n",
    "model.add(layers.Flatten())\n",
    "model.add(layers.Dense(256, activation='relu'))\n",
    "model.add(layers.Dense(88, activation='softmax'))"
   ]
  },
  {
   "cell_type": "markdown",
   "metadata": {},
   "source": [
    "This is what our model looks like now:"
   ]
  },
  {
   "cell_type": "code",
   "execution_count": 12,
   "metadata": {},
   "outputs": [
    {
     "name": "stdout",
     "output_type": "stream",
     "text": [
      "_________________________________________________________________\n",
      "Layer (type)                 Output Shape              Param #   \n",
      "=================================================================\n",
      "vgg16 (Model)                (None, 4, 4, 512)         14714688  \n",
      "_________________________________________________________________\n",
      "flatten_1 (Flatten)          (None, 8192)              0         \n",
      "_________________________________________________________________\n",
      "dense_5 (Dense)              (None, 256)               2097408   \n",
      "_________________________________________________________________\n",
      "dense_6 (Dense)              (None, 88)                22616     \n",
      "=================================================================\n",
      "Total params: 16,834,712\n",
      "Trainable params: 16,834,712\n",
      "Non-trainable params: 0\n",
      "_________________________________________________________________\n"
     ]
    }
   ],
   "source": [
    "model.summary()"
   ]
  },
  {
   "cell_type": "markdown",
   "metadata": {},
   "source": [
    "As you can see, the convolutional base of VGG16 has 14,714,688 parameters, which is very large. The classifier we are adding on top has 2 \n",
    "million parameters.\n",
    "\n",
    "Before we compile and train our model, a very important thing to do is to freeze the convolutional base. \"Freezing\" a layer or set of \n",
    "layers means preventing their weights from getting updated during training. If we don't do this, then the representations that were \n",
    "previously learned by the convolutional base would get modified during training. Since the `Dense` layers on top are randomly initialized, \n",
    "very large weight updates would be propagated through the network, effectively destroying the representations previously learned.\n",
    "\n",
    "In Keras, freezing a network is done by setting its `trainable` attribute to `False`:"
   ]
  },
  {
   "cell_type": "code",
   "execution_count": 13,
   "metadata": {},
   "outputs": [
    {
     "name": "stdout",
     "output_type": "stream",
     "text": [
      "('This is the number of trainable weights before freezing the conv base:', 30)\n"
     ]
    }
   ],
   "source": [
    "print('This is the number of trainable weights '\n",
    "      'before freezing the conv base:', len(model.trainable_weights))"
   ]
  },
  {
   "cell_type": "code",
   "execution_count": 14,
   "metadata": {},
   "outputs": [],
   "source": [
    "conv_base.trainable = False"
   ]
  },
  {
   "cell_type": "code",
   "execution_count": 15,
   "metadata": {},
   "outputs": [
    {
     "name": "stdout",
     "output_type": "stream",
     "text": [
      "('This is the number of trainable weights after freezing the conv base:', 4)\n"
     ]
    }
   ],
   "source": [
    "print('This is the number of trainable weights '\n",
    "      'after freezing the conv base:', len(model.trainable_weights))"
   ]
  },
  {
   "cell_type": "markdown",
   "metadata": {},
   "source": [
    "With this setup, only the weights from the two `Dense` layers that we added will be trained. That's a total of four weight tensors: two per \n",
    "layer (the main weight matrix and the bias vector). Note that in order for these changes to take effect, we must first compile the model. \n",
    "If you ever modify weight trainability after compilation, you should then re-compile the model, or these changes would be ignored.\n",
    "\n",
    "Now we can start training our model, with the same data augmentation configuration that we used in our previous example:"
   ]
  },
  {
   "cell_type": "code",
   "execution_count": 16,
   "metadata": {},
   "outputs": [
    {
     "name": "stdout",
     "output_type": "stream",
     "text": [
      "Found 5280 images belonging to 88 classes.\n",
      "Found 1760 images belonging to 88 classes.\n",
      "CPU times: user 296 ms, sys: 144 ms, total: 440 ms\n",
      "Wall time: 355 ms\n"
     ]
    }
   ],
   "source": [
    "%%time\n",
    "from keras.preprocessing.image import ImageDataGenerator\n",
    "\n",
    "train_datagen = ImageDataGenerator(\n",
    "      rescale=1./255,\n",
    "      rotation_range=0,\n",
    "      width_shift_range=0,\n",
    "      height_shift_range=0,\n",
    "      shear_range=0,\n",
    "      zoom_range=0,\n",
    "      horizontal_flip=False,\n",
    "      fill_mode='nearest')\n",
    "\n",
    "# Note that the validation data should not be augmented!\n",
    "test_datagen = ImageDataGenerator(rescale=1./255)\n",
    "\n",
    "train_generator = train_datagen.flow_from_directory(\n",
    "        # This is the target directory\n",
    "        train_dir,\n",
    "        # All images will be resized to 150x150\n",
    "        target_size=(150, 150),\n",
    "        batch_size=20,\n",
    "        # Since we use binary_crossentropy loss, we need binary labels\n",
    "        class_mode='categorical')\n",
    "\n",
    "validation_generator = test_datagen.flow_from_directory(\n",
    "        validation_dir,\n",
    "        target_size=(150, 150),\n",
    "        batch_size=20,\n",
    "        class_mode='categorical')\n",
    "\n",
    "model.compile(loss='categorical_crossentropy',\n",
    "              optimizer=optimizers.RMSprop(lr=2e-5),\n",
    "              metrics=['acc'])\n",
    "\n",
    "#history = model.fit_generator(\n",
    "      #train_generator,\n",
    "      #steps_per_epoch=100,\n",
    "      #epochs=30,\n",
    "      #validation_data=validation_generator,\n",
    "      #validation_steps=50,\n",
    "      #verbose=2)"
   ]
  },
  {
   "cell_type": "code",
   "execution_count": 17,
   "metadata": {},
   "outputs": [],
   "source": [
    "model.save('digital_01.h5')"
   ]
  },
  {
   "cell_type": "markdown",
   "metadata": {},
   "source": [
    "Let's plot our results again:"
   ]
  },
  {
   "cell_type": "code",
   "execution_count": 18,
   "metadata": {},
   "outputs": [
    {
     "data": {
      "image/png": "[encoded data removed]",
      "text/plain": [
       "<matplotlib.figure.Figure at 0x7efebf3bd750>"
      ]
     },
     "metadata": {},
     "output_type": "display_data"
    },
    {
     "data": {
      "image/png": "[encoded data removed]",
      "text/plain": [
       "<matplotlib.figure.Figure at 0x7efebf377dd0>"
      ]
     },
     "metadata": {},
     "output_type": "display_data"
    }
   ],
   "source": [
    "acc = history.history['acc']\n",
    "val_acc = history.history['val_acc']\n",
    "loss = history.history['loss']\n",
    "val_loss = history.history['val_loss']\n",
    "\n",
    "epochs = range(len(acc))\n",
    "\n",
    "plt.plot(epochs, acc, 'bo', label='Training acc')\n",
    "plt.plot(epochs, val_acc, 'b', label='Validation acc')\n",
    "plt.title('Training and validation accuracy')\n",
    "plt.legend()\n",
    "\n",
    "plt.figure()\n",
    "\n",
    "plt.plot(epochs, loss, 'bo', label='Training loss')\n",
    "plt.plot(epochs, val_loss, 'b', label='Validation loss')\n",
    "plt.title('Training and validation loss')\n",
    "plt.legend()\n",
    "\n",
    "plt.show()"
   ]
  },
  {
   "cell_type": "markdown",
   "metadata": {},
   "source": [
    "As you can see, we reach a validation accuracy of about 96%. This is much better than our small convnet trained from scratch."
   ]
  },
  {
   "cell_type": "markdown",
   "metadata": {},
   "source": [
    "## Fine-tuning\n",
    "\n",
    "Another widely used technique for model reuse, complementary to feature extraction, is _fine-tuning_. \n",
    "Fine-tuning consists in unfreezing a few of the top layers \n",
    "of a frozen model base used for feature extraction, and jointly training both the newly added part of the model (in our case, the \n",
    "fully-connected classifier) and these top layers. This is called \"fine-tuning\" because it slightly adjusts the more abstract \n",
    "representations of the model being reused, in order to make them more relevant for the problem at hand.\n",
    "\n",
    "![fine-tuning VGG16](https://s3.amazonaws.com/book.keras.io/img/ch5/vgg16_fine_tuning.png)"
   ]
  },
  {
   "cell_type": "markdown",
   "metadata": {},
   "source": [
    "We have stated before that it was necessary to freeze the convolution base of VGG16 in order to be able to train a randomly initialized \n",
    "classifier on top. For the same reason, it is only possible to fine-tune the top layers of the convolutional base once the classifier on \n",
    "top has already been trained. If the classified wasn't already trained, then the error signal propagating through the network during \n",
    "training would be too large, and the representations previously learned by the layers being fine-tuned would be destroyed. Thus the steps \n",
    "for fine-tuning a network are as follow:\n",
    "\n",
    "* 1) Add your custom network on top of an already trained base network.\n",
    "* 2) Freeze the base network.\n",
    "* 3) Train the part you added.\n",
    "* 4) Unfreeze some layers in the base network.\n",
    "* 5) Jointly train both these layers and the part you added.\n",
    "\n",
    "We have already completed the first 3 steps when doing feature extraction. Let's proceed with the 4th step: we will unfreeze our `conv_base`, \n",
    "and then freeze individual layers inside of it.\n",
    "\n",
    "As a reminder, this is what our convolutional base looks like:"
   ]
  },
  {
   "cell_type": "code",
   "execution_count": 19,
   "metadata": {},
   "outputs": [
    {
     "name": "stdout",
     "output_type": "stream",
     "text": [
      "_________________________________________________________________\n",
      "Layer (type)                 Output Shape              Param #   \n",
      "=================================================================\n",
      "input_1 (InputLayer)         (None, 150, 150, 3)       0         \n",
      "_________________________________________________________________\n",
      "block1_conv1 (Conv2D)        (None, 150, 150, 64)      1792      \n",
      "_________________________________________________________________\n",
      "block1_conv2 (Conv2D)        (None, 150, 150, 64)      36928     \n",
      "_________________________________________________________________\n",
      "block1_pool (MaxPooling2D)   (None, 75, 75, 64)        0         \n",
      "_________________________________________________________________\n",
      "block2_conv1 (Conv2D)        (None, 75, 75, 128)       73856     \n",
      "_________________________________________________________________\n",
      "block2_conv2 (Conv2D)        (None, 75, 75, 128)       147584    \n",
      "_________________________________________________________________\n",
      "block2_pool (MaxPooling2D)   (None, 37, 37, 128)       0         \n",
      "_________________________________________________________________\n",
      "block3_conv1 (Conv2D)        (None, 37, 37, 256)       295168    \n",
      "_________________________________________________________________\n",
      "block3_conv2 (Conv2D)        (None, 37, 37, 256)       590080    \n",
      "_________________________________________________________________\n",
      "block3_conv3 (Conv2D)        (None, 37, 37, 256)       590080    \n",
      "_________________________________________________________________\n",
      "block3_pool (MaxPooling2D)   (None, 18, 18, 256)       0         \n",
      "_________________________________________________________________\n",
      "block4_conv1 (Conv2D)        (None, 18, 18, 512)       1180160   \n",
      "_________________________________________________________________\n",
      "block4_conv2 (Conv2D)        (None, 18, 18, 512)       2359808   \n",
      "_________________________________________________________________\n",
      "block4_conv3 (Conv2D)        (None, 18, 18, 512)       2359808   \n",
      "_________________________________________________________________\n",
      "block4_pool (MaxPooling2D)   (None, 9, 9, 512)         0         \n",
      "_________________________________________________________________\n",
      "block5_conv1 (Conv2D)        (None, 9, 9, 512)         2359808   \n",
      "_________________________________________________________________\n",
      "block5_conv2 (Conv2D)        (None, 9, 9, 512)         2359808   \n",
      "_________________________________________________________________\n",
      "block5_conv3 (Conv2D)        (None, 9, 9, 512)         2359808   \n",
      "_________________________________________________________________\n",
      "block5_pool (MaxPooling2D)   (None, 4, 4, 512)         0         \n",
      "=================================================================\n",
      "Total params: 14,714,688\n",
      "Trainable params: 0\n",
      "Non-trainable params: 14,714,688\n",
      "_________________________________________________________________\n"
     ]
    }
   ],
   "source": [
    "conv_base.summary()"
   ]
  },
  {
   "cell_type": "markdown",
   "metadata": {},
   "source": [
    "\n",
    "We will fine-tune the last 3 convolutional layers, which means that all layers up until `block4_pool` should be frozen, and the layers \n",
    "`block5_conv1`, `block5_conv2` and `block5_conv3` should be trainable.\n",
    "\n",
    "Why not fine-tune more layers? Why not fine-tune the entire convolutional base? We could. However, we need to consider that:\n",
    "\n",
    "* Earlier layers in the convolutional base encode more generic, reusable features, while layers higher up encode more specialized features. It is \n",
    "more useful to fine-tune the more specialized features, as these are the ones that need to be repurposed on our new problem. There would \n",
    "be fast-decreasing returns in fine-tuning lower layers.\n",
    "* The more parameters we are training, the more we are at risk of overfitting. The convolutional base has 15M parameters, so it would be \n",
    "risky to attempt to train it on our small dataset.\n",
    "\n",
    "Thus, in our situation, it is a good strategy to only fine-tune the top 2 to 3 layers in the convolutional base.\n",
    "\n",
    "Let's set this up, starting from where we left off in the previous example:"
   ]
  },
  {
   "cell_type": "code",
   "execution_count": 20,
   "metadata": {},
   "outputs": [],
   "source": [
    "conv_base.trainable = True\n",
    "\n",
    "set_trainable = False\n",
    "for layer in conv_base.layers:\n",
    "    if layer.name == 'block5_conv1':\n",
    "        set_trainable = True\n",
    "    if set_trainable:\n",
    "        layer.trainable = True\n",
    "    else:\n",
    "        layer.trainable = False"
   ]
  },
  {
   "cell_type": "markdown",
   "metadata": {},
   "source": [
    "Now we can start fine-tuning our network. We will do this with the RMSprop optimizer, using a very low learning rate. The reason for using \n",
    "a low learning rate is that we want to limit the magnitude of the modifications we make to the representations of the 3 layers that we are \n",
    "fine-tuning. Updates that are too large may harm these representations.\n",
    "\n",
    "Now let's proceed with fine-tuning:"
   ]
  },
  {
   "cell_type": "code",
   "execution_count": 22,
   "metadata": {},
   "outputs": [
    {
     "name": "stdout",
     "output_type": "stream",
     "text": [
      "Epoch 1/10\n",
      "10/10 [==============================] - 181s 18s/step - loss: 2.3964 - acc: 0.5900 - val_loss: 2.1233 - val_acc: 0.6867\n",
      "Epoch 2/10\n",
      "10/10 [==============================] - 183s 18s/step - loss: 2.0320 - acc: 0.7150 - val_loss: 2.0134 - val_acc: 0.6800\n",
      "Epoch 3/10\n",
      "10/10 [==============================] - 185s 18s/step - loss: 1.8595 - acc: 0.7350 - val_loss: 1.9440 - val_acc: 0.6567\n",
      "Epoch 4/10\n",
      "10/10 [==============================] - 182s 18s/step - loss: 1.9186 - acc: 0.6700 - val_loss: 1.8447 - val_acc: 0.6867\n",
      "Epoch 5/10\n",
      "10/10 [==============================] - 192s 19s/step - loss: 1.7686 - acc: 0.7350 - val_loss: 1.7670 - val_acc: 0.7000\n",
      "Epoch 6/10\n",
      "10/10 [==============================] - 185s 18s/step - loss: 1.6295 - acc: 0.7500 - val_loss: 1.6646 - val_acc: 0.7567\n",
      "Epoch 7/10\n",
      "10/10 [==============================] - 191s 19s/step - loss: 1.6235 - acc: 0.7700 - val_loss: 1.5645 - val_acc: 0.7600\n",
      "Epoch 8/10\n",
      "10/10 [==============================] - 193s 19s/step - loss: 1.5714 - acc: 0.7550 - val_loss: 1.5285 - val_acc: 0.7667\n",
      "Epoch 9/10\n",
      "10/10 [==============================] - 196s 20s/step - loss: 1.4783 - acc: 0.7900 - val_loss: 1.4288 - val_acc: 0.8000\n",
      "Epoch 10/10\n",
      "10/10 [==============================] - 193s 19s/step - loss: 1.5062 - acc: 0.7600 - val_loss: 1.3383 - val_acc: 0.8300\n",
      "CPU times: user 1h 45min 41s, sys: 2min 11s, total: 1h 47min 53s\n",
      "Wall time: 31min 20s\n"
     ]
    }
   ],
   "source": [
    "%%time\n",
    "model.compile(loss='categorical_crossentropy',\n",
    "              optimizer=optimizers.RMSprop(lr=1e-5),\n",
    "              metrics=['acc'])\n",
    "\n",
    "history = model.fit_generator(\n",
    "      train_generator,\n",
    "      steps_per_epoch=10, # 100\n",
    "      epochs=10, # 100\n",
    "      validation_data=validation_generator,\n",
    "      validation_steps=15 ) # 50"
   ]
  },
  {
   "cell_type": "code",
   "execution_count": 23,
   "metadata": {},
   "outputs": [],
   "source": [
    "model.save('digital_02.h5')"
   ]
  },
  {
   "cell_type": "markdown",
   "metadata": {},
   "source": [
    "Let's plot our results using the same plotting code as before:"
   ]
  },
  {
   "cell_type": "code",
   "execution_count": 24,
   "metadata": {},
   "outputs": [
    {
     "data": {
      "image/png": "[encoded data removed]",
      "text/plain": [
       "<matplotlib.figure.Figure at 0x7efea4974810>"
      ]
     },
     "metadata": {},
     "output_type": "display_data"
    },
    {
     "data": {
      "image/png": "[encoded data removed]",
      "text/plain": [
       "<matplotlib.figure.Figure at 0x7efea4133610>"
      ]
     },
     "metadata": {},
     "output_type": "display_data"
    }
   ],
   "source": [
    "acc = history.history['acc']\n",
    "val_acc = history.history['val_acc']\n",
    "loss = history.history['loss']\n",
    "val_loss = history.history['val_loss']\n",
    "\n",
    "epochs = range(len(acc))\n",
    "\n",
    "plt.plot(epochs, acc, 'bo', label='Training acc')\n",
    "plt.plot(epochs, val_acc, 'b', label='Validation acc')\n",
    "plt.title('Training and validation accuracy')\n",
    "plt.legend()\n",
    "\n",
    "plt.figure()\n",
    "\n",
    "plt.plot(epochs, loss, 'bo', label='Training loss')\n",
    "plt.plot(epochs, val_loss, 'b', label='Validation loss')\n",
    "plt.title('Training and validation loss')\n",
    "plt.legend()\n",
    "\n",
    "plt.show()"
   ]
  },
  {
   "cell_type": "markdown",
   "metadata": {},
   "source": [
    "\n",
    "These curves look very noisy. To make them more readable, we can smooth them by replacing every loss and accuracy with exponential moving \n",
    "averages of these quantities. Here's a trivial utility function to do this:"
   ]
  },
  {
   "cell_type": "code",
   "execution_count": 26,
   "metadata": {},
   "outputs": [
    {
     "data": {
      "image/png": "[encoded data removed]",
      "text/plain": [
       "<matplotlib.figure.Figure at 0x7efea486cf90>"
      ]
     },
     "metadata": {},
     "output_type": "display_data"
    },
    {
     "data": {
      "image/png": "[encoded data removed]",
      "text/plain": [
       "<matplotlib.figure.Figure at 0x7efea48af490>"
      ]
     },
     "metadata": {},
     "output_type": "display_data"
    }
   ],
   "source": [
    "def smooth_curve(points, factor=0.8):\n",
    "  smoothed_points = []\n",
    "  for point in points:\n",
    "    if smoothed_points:\n",
    "      previous = smoothed_points[-1]\n",
    "      smoothed_points.append(previous * factor + point * (1 - factor))\n",
    "    else:\n",
    "      smoothed_points.append(point)\n",
    "  return smoothed_points\n",
    "\n",
    "plt.plot(epochs,\n",
    "         smooth_curve(acc), 'bo', label='Smoothed training acc')\n",
    "plt.plot(epochs,\n",
    "         smooth_curve(val_acc), 'b', label='Smoothed validation acc')\n",
    "plt.title('Training and validation accuracy')\n",
    "plt.legend()\n",
    "\n",
    "plt.figure()\n",
    "\n",
    "plt.plot(epochs,\n",
    "         smooth_curve(loss), 'bo', label='Smoothed training loss')\n",
    "plt.plot(epochs,\n",
    "         smooth_curve(val_loss), 'b', label='Smoothed validation loss')\n",
    "plt.title('Training and validation loss')\n",
    "plt.legend()\n",
    "\n",
    "plt.show()"
   ]
  },
  {
   "cell_type": "markdown",
   "metadata": {},
   "source": [
    "\n",
    "These curves look much cleaner and more stable. We are seeing a nice 1% absolute improvement.\n",
    "\n",
    "Note that the loss curve does not show any real improvement (in fact, it is deteriorating). You may wonder, how could accuracy improve if the \n",
    "loss isn't decreasing? The answer is simple: what we display is an average of pointwise loss values, but what actually matters for accuracy \n",
    "is the distribution of the loss values, not their average, since accuracy is the result of a binary thresholding of the class probability \n",
    "predicted by the model. The model may still be improving even if this isn't reflected in the average loss.\n",
    "\n",
    "We can now finally evaluate this model on the test data:"
   ]
  },
  {
   "cell_type": "code",
   "execution_count": 27,
   "metadata": {},
   "outputs": [
    {
     "name": "stdout",
     "output_type": "stream",
     "text": [
      "Found 1760 images belonging to 88 classes.\n",
      "('test acc:', 0.82499999999999996)\n",
      "CPU times: user 19min 39s, sys: 23.9 s, total: 20min 3s\n",
      "Wall time: 5min 57s\n"
     ]
    }
   ],
   "source": [
    "%%time\n",
    "test_generator = test_datagen.flow_from_directory(\n",
    "        test_dir,\n",
    "        target_size=(150, 150),\n",
    "        batch_size=20,\n",
    "        class_mode='categorical')\n",
    "\n",
    "test_loss, test_acc = model.evaluate_generator(test_generator, steps=50) # use steps = 50\n",
    "print('test acc:', test_acc)"
   ]
  },
  {
   "cell_type": "markdown",
   "metadata": {},
   "source": [
    "\n",
    "Here we get a test accuracy of 97%. In the original Kaggle competition around this dataset, this would have been one of the top results. \n",
    "However, using modern deep learning techniques, we managed to reach this result using only a very small fraction of the training data \n",
    "available (about 10%). There is a huge difference between being able to train on 20,000 samples compared to 2,000 samples!"
   ]
  },
  {
   "cell_type": "markdown",
   "metadata": {},
   "source": [
    "## Take-aways: using convnets with small datasets\n",
    "\n",
    "Here's what you should take away from the exercises of these past two sections:\n",
    "\n",
    "* Convnets are the best type of machine learning models for computer vision tasks. It is possible to train one from scratch even on a very \n",
    "small dataset, with decent results.\n",
    "* On a small dataset, overfitting will be the main issue. Data augmentation is a powerful way to fight overfitting when working with image \n",
    "data.\n",
    "* It is easy to reuse an existing convnet on a new dataset, via feature extraction. This is a very valuable technique for working with \n",
    "small image datasets.\n",
    "* As a complement to feature extraction, one may use fine-tuning, which adapts to a new problem some of the representations previously \n",
    "learned by an existing model. This pushes performance a bit further.\n",
    "\n",
    "Now you have a solid set of tools for dealing with image classification problems, in particular with small datasets."
   ]
  }
 ],
 "metadata": {
  "kernelspec": {
   "display_name": "Python 3",
   "language": "python",
   "name": "python3"
  },
  "language_info": {
   "codemirror_mode": {
    "name": "ipython",
    "version": 2
   },
   "file_extension": ".py",
   "mimetype": "text/x-python",
   "name": "python",
   "nbconvert_exporter": "python",
   "pygments_lexer": "ipython2",
   "version": "2.7.12"
  }
 },
 "nbformat": 4,
 "nbformat_minor": 2
}
